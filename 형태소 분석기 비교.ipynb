{
 "cells": [
  {
   "cell_type": "code",
   "execution_count": 1,
   "id": "02f7f92c",
   "metadata": {},
   "outputs": [],
   "source": [
    "from konlpy.tag import Okt\n",
    "from pecab import PeCab\n",
    "from konlpy.tag import Kkma\n",
    "from konlpy.tag import Komoran\n",
    "\n",
    "okt = Okt()\n",
    "pecab = PeCab()\n",
    "kkma = Kkma()\n",
    "komoran = Komoran()"
   ]
  },
  {
   "cell_type": "code",
   "execution_count": 66,
   "id": "3fdeeae5",
   "metadata": {},
   "outputs": [
    {
     "name": "stdout",
     "output_type": "stream",
     "text": [
      "okt: [('감독', 'Noun'), ('상', 'Suffix')]\n",
      "pecab: [('감독', 'NNG'), ('상', 'XSN')]\n",
      "kkma: [('감독상', 'NNG')]\n",
      "komoran: [('감독상', 'NNG')]\n"
     ]
    }
   ],
   "source": [
    "print(\"okt:\", okt.pos(\"감독상\"))\n",
    "print(\"pecab:\", pecab.pos(\"감독상\"))\n",
    "print(\"kkma:\", kkma.pos(\"감독상\"))\n",
    "print(\"komoran:\", komoran.pos(\"감독상\"))"
   ]
  },
  {
   "cell_type": "code",
   "execution_count": 10,
   "id": "07042169",
   "metadata": {},
   "outputs": [
    {
     "name": "stdout",
     "output_type": "stream",
     "text": [
      "okt: [('한국', 'Noun'), ('관광', 'Noun'), ('공사', 'Noun')]\n",
      "pecab: [('한국', 'NNP'), ('관광공사', 'NNP')]\n",
      "kkma: [('한국', 'NNP'), ('관광', 'NNG'), ('공사', 'NNG')]\n",
      "komoran: [('한국관광공사', 'NNP')]\n"
     ]
    }
   ],
   "source": [
    "print(\"okt:\", okt.pos(\"한국관광공사\"))\n",
    "print(\"pecab:\", pecab.pos(\"한국관광공사\"))\n",
    "print(\"kkma:\", kkma.pos(\"한국관광공사\"))\n",
    "print(\"komoran:\", komoran.pos(\"한국관광공사\"))"
   ]
  },
  {
   "cell_type": "code",
   "execution_count": 11,
   "id": "01577081",
   "metadata": {},
   "outputs": [
    {
     "name": "stdout",
     "output_type": "stream",
     "text": [
      "okt: [('친절한', 'Adjective'), ('금', 'Noun'), ('자씨', 'Noun')]\n",
      "pecab: [('친절', 'NNG'), ('한', 'XSA+ETM'), ('금자씨', 'NNP')]\n",
      "kkma: [('친절', 'NNG'), ('하', 'XSV'), ('ㄴ', 'ETD'), ('금', 'NNG'), ('자씨', 'NNG')]\n",
      "komoran: [('친절한 금자씨', 'NNP')]\n"
     ]
    }
   ],
   "source": [
    "print(\"okt:\", okt.pos(\"친절한 금자씨\"))\n",
    "print(\"pecab:\", pecab.pos(\"친절한 금자씨\"))\n",
    "print(\"kkma:\", kkma.pos(\"친절한 금자씨\"))\n",
    "print(\"komoran:\", komoran.pos(\"친절한 금자씨\"))"
   ]
  },
  {
   "cell_type": "code",
   "execution_count": 14,
   "id": "6e6eb243",
   "metadata": {},
   "outputs": [
    {
     "name": "stdout",
     "output_type": "stream",
     "text": [
      "okt: [('스트', 'Noun'), ('레이', 'Noun'), ('키즈', 'Noun')]\n",
      "pecab: [('스', 'IC'), ('트레이', 'NNP'), ('키즈', 'NNP')]\n",
      "kkma: [('스트', 'UN'), ('레이', 'NNG'), ('키즈', 'NNG')]\n",
      "komoran: [('스트레이키즈', 'NA')]\n"
     ]
    }
   ],
   "source": [
    "print(\"okt:\", okt.pos(\"스트레이키즈\"))\n",
    "print(\"pecab:\", pecab.pos(\"스트레이키즈\"))\n",
    "print(\"kkma:\", kkma.pos(\"스트레이키즈\"))\n",
    "print(\"komoran:\", komoran.pos(\"스트레이키즈\"))"
   ]
  },
  {
   "cell_type": "code",
   "execution_count": 33,
   "id": "764e0c88",
   "metadata": {},
   "outputs": [
    {
     "name": "stdout",
     "output_type": "stream",
     "text": [
      "[('국립', 'Noun'), ('중앙', 'Noun'), ('박물관', 'Noun')]\n",
      "[('국립', 'NNG'), ('중앙', 'NNG'), ('박물관', 'NNG')]\n",
      "[('국립중앙박물관', 'NNP')]\n"
     ]
    }
   ],
   "source": [
    "print(okt.pos(\"국립중앙박물관\"))\n",
    "print(pecab.pos(\"국립중앙박물관\"))\n",
    "print(komoran.pos(\"국립중앙박물관\"))"
   ]
  },
  {
   "cell_type": "code",
   "execution_count": 18,
   "id": "b9917645",
   "metadata": {},
   "outputs": [
    {
     "name": "stdout",
     "output_type": "stream",
     "text": [
      "[('한국', 'Noun'), ('의', 'Josa'), ('문화', 'Noun')]\n",
      "[('한국', 'NNP'), ('의', 'JKG'), ('문화', 'NNG')]\n",
      "[('한국의 문화', 'NNP')]\n"
     ]
    }
   ],
   "source": [
    "print(okt.pos(\"한국의 문화\"))\n",
    "print(pecab.pos(\"한국의 문화\"))\n",
    "print(komoran.pos(\"한국의 문화\"))"
   ]
  },
  {
   "cell_type": "code",
   "execution_count": null,
   "id": "ce16ea76",
   "metadata": {},
   "outputs": [],
   "source": []
  }
 ],
 "metadata": {
  "kernelspec": {
   "display_name": "Python 3 (ipykernel)",
   "language": "python",
   "name": "python3"
  },
  "language_info": {
   "codemirror_mode": {
    "name": "ipython",
    "version": 3
   },
   "file_extension": ".py",
   "mimetype": "text/x-python",
   "name": "python",
   "nbconvert_exporter": "python",
   "pygments_lexer": "ipython3",
   "version": "3.9.12"
  }
 },
 "nbformat": 4,
 "nbformat_minor": 5
}
